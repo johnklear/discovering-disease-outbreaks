{
 "cells": [
  {
   "cell_type": "code",
   "execution_count": 1,
   "metadata": {},
   "outputs": [],
   "source": [
    "import pandas as pd\n",
    "import geonamescache\n",
    "import re"
   ]
  },
  {
   "cell_type": "code",
   "execution_count": 2,
   "metadata": {},
   "outputs": [
    {
     "data": {
      "text/html": [
       "<div>\n",
       "<style scoped>\n",
       "    .dataframe tbody tr th:only-of-type {\n",
       "        vertical-align: middle;\n",
       "    }\n",
       "\n",
       "    .dataframe tbody tr th {\n",
       "        vertical-align: top;\n",
       "    }\n",
       "\n",
       "    .dataframe thead th {\n",
       "        text-align: right;\n",
       "    }\n",
       "</style>\n",
       "<table border=\"1\" class=\"dataframe\">\n",
       "  <thead>\n",
       "    <tr style=\"text-align: right;\">\n",
       "      <th></th>\n",
       "      <th>0</th>\n",
       "    </tr>\n",
       "  </thead>\n",
       "  <tbody>\n",
       "    <tr>\n",
       "      <th>0</th>\n",
       "      <td>Zika Outbreak Hits Miami</td>\n",
       "    </tr>\n",
       "    <tr>\n",
       "      <th>1</th>\n",
       "      <td>Could Zika Reach New York City?</td>\n",
       "    </tr>\n",
       "    <tr>\n",
       "      <th>2</th>\n",
       "      <td>First Case of Zika in Miami Beach</td>\n",
       "    </tr>\n",
       "    <tr>\n",
       "      <th>3</th>\n",
       "      <td>Mystery Virus Spreads in Recife, Brazil</td>\n",
       "    </tr>\n",
       "    <tr>\n",
       "      <th>4</th>\n",
       "      <td>Dallas man comes down with case of Zika</td>\n",
       "    </tr>\n",
       "  </tbody>\n",
       "</table>\n",
       "</div>"
      ],
      "text/plain": [
       "                                         0\n",
       "0                 Zika Outbreak Hits Miami\n",
       "1          Could Zika Reach New York City?\n",
       "2        First Case of Zika in Miami Beach\n",
       "3  Mystery Virus Spreads in Recife, Brazil\n",
       "4  Dallas man comes down with case of Zika"
      ]
     },
     "execution_count": 2,
     "metadata": {},
     "output_type": "execute_result"
    }
   ],
   "source": [
    "#Read headlines into a dataframe. No header. Set delimiter to tab so that commas will be pulled in.\n",
    "headlines = pd.read_csv('data/headlines.txt', header=None, delimiter=\"\\t\", encoding='utf-8')\n",
    "headlines.head()"
   ]
  },
  {
   "cell_type": "code",
   "execution_count": 3,
   "metadata": {},
   "outputs": [],
   "source": [
    "gc = geonamescache.GeonamesCache()\n",
    "cities = gc.get_cities()"
   ]
  },
  {
   "cell_type": "code",
   "execution_count": 4,
   "metadata": {},
   "outputs": [],
   "source": [
    "city_names = [cities[key]['name'] for key in list(cities.keys())]"
   ]
  },
  {
   "cell_type": "code",
   "execution_count": 5,
   "metadata": {},
   "outputs": [],
   "source": [
    "with open('data/headlines.txt', 'r') as f:\n",
    "    hl_list = f.readlines()"
   ]
  },
  {
   "cell_type": "code",
   "execution_count": 6,
   "metadata": {},
   "outputs": [],
   "source": [
    "for r in city_names:\n",
    "    rgx = re.compile(r)\n",
    "    finallist = [x for x in hl_list if rgx.search(x)]"
   ]
  },
  {
   "cell_type": "code",
   "execution_count": 7,
   "metadata": {},
   "outputs": [
    {
     "data": {
      "text/plain": [
       "[]"
      ]
     },
     "execution_count": 7,
     "metadata": {},
     "output_type": "execute_result"
    }
   ],
   "source": [
    "finallist"
   ]
  },
  {
   "cell_type": "code",
   "execution_count": 8,
   "metadata": {},
   "outputs": [],
   "source": [
    "regex = re.compile('|'.join(city_names))"
   ]
  },
  {
   "cell_type": "code",
   "execution_count": 9,
   "metadata": {},
   "outputs": [
    {
     "data": {
      "text/plain": [
       "['Dallas man comes down with case of Zika\\n',\n",
       " 'Trinidad confirms first Zika case\\n',\n",
       " 'Brownsville teen contracts Zika virus\\n',\n",
       " 'San Juan reports 1st U.S. Zika-related death amid outbreak\\n',\n",
       " 'Orlando volunteers aid Zika research\\n',\n",
       " \"Chicago's First Zika Case Confirmed\\n\",\n",
       " 'Tampa Bay Area Zika Case Count Climbs\\n',\n",
       " 'Baltimore plans for Zika virus\\n',\n",
       " 'London Health Unit Tracks Mad Cow Disease\\n',\n",
       " 'Philadelphia experts track pandemic\\n',\n",
       " 'Beijing team cracks Zika secret\\n',\n",
       " 'Kuala Lumpur is Hit By Zika Threat\\n',\n",
       " 'Tallahassee Doctors Discuss Zika Virus\\n',\n",
       " 'Townsville Zika tests inconclusive\\n',\n",
       " 'Mandaluyong City under Siege by Virus\\n',\n",
       " 'Lima tries to address Zika Concerns\\n',\n",
       " 'Brisbane is infested with Meningitis\\n',\n",
       " 'Seattle scientists get $500,000 grant to pursue Zika vaccine New 7:50 pm\\n',\n",
       " 'Nashville takes precautions against Zika\\n',\n",
       " 'Saint Croix under Zika threat\\n',\n",
       " 'Fort Collins Encounters Severe Symptoms of Gonorrhea\\n',\n",
       " 'Madison lab developing vaccine against Zika virus [The Wisconsin State Journal]\\n',\n",
       " 'Jacksonville man hit by Zika\\n',\n",
       " 'Caracas patient dies\\n',\n",
       " \"Mumbai's Health Minister warns of more Zika cases\\n\",\n",
       " 'Pune woman diagnosed with Zika\\n',\n",
       " 'Hospitals in Hanoi fill up with Zika patients\\n',\n",
       " 'Hillsborough uses innovative trap against Zika 20 minutes ago\\n',\n",
       " 'Belize City under threat from Zika\\n',\n",
       " 'Seoul confirms 14th Zika infection\\n',\n",
       " 'Rochester authorities confirmed the spread of Dengue\\n',\n",
       " 'El Paso fighting Zika\\n',\n",
       " 'Salt Lake City tests new cure for Respiratory Syncytial Virus\\n',\n",
       " 'Antipolo under threat from Zika Virus\\n',\n",
       " 'Hollywood Outbreak Film Premieres\\n',\n",
       " 'Petaling Jaya man ill from Zika\\n',\n",
       " 'Malaria is Spreading in Johannesburg\\n',\n",
       " 'Guangzhou Patient in Critical Condition after Contracting Swine Flu\\n',\n",
       " 'Doral hit by Deadly Virus\\n',\n",
       " 'Tokyo Encounters Severe Symptoms of Meningitis\\n',\n",
       " 'Birmingham Residents Recieve Rabies vaccine\\n',\n",
       " 'Santa Barbara tests new cure for Hepatitis C\\n',\n",
       " 'Spring break ruined by Zika in Fort Lauderdale\\n',\n",
       " 'Villavicencio under Zika threat\\n',\n",
       " 'New Delhi Addressing Zika Concerns\\n',\n",
       " 'Nha Trang Zika Outbreak\\n',\n",
       " 'Molo Cholera Spread Causing Concern\\n',\n",
       " 'Batangas Tourism Takes a Hit as Virus Spreads\\n',\n",
       " 'Johannesburg Patient in Critical Condition after Contracting Pneumonia\\n',\n",
       " 'How to Avoid Rhinovirus in Lemon Grove\\n',\n",
       " 'Escondido neighborhood to get sprayed for Zika virus\\n',\n",
       " 'Veracruz hit by Zika Concerns\\n',\n",
       " 'Gainesville Deals with Disease Concerns\\n',\n",
       " 'Montevideo Encounters Severe Symptoms of Rotavirus\\n',\n",
       " 'Manhattan Residents Recieve HIV vaccine\\n',\n",
       " 'Will Norovirus vaccine help Raleigh?\\n',\n",
       " 'How to Avoid Gonorrhea in Shreveport\\n',\n",
       " 'Ithaca is infested with Dengue\\n',\n",
       " 'Will MCD vaccine help Strasbourg?\\n',\n",
       " 'Mecca tests new cure for Chikungunya\\n',\n",
       " 'Urbana Encounters Severe Symptoms of Meningitis\\n',\n",
       " 'Pittsburgh Residents Recieve Norovirus vaccine\\n',\n",
       " 'Will Tuberculosis vaccine help Rockville?\\n',\n",
       " 'Oxford tests new cure for HIV\\n',\n",
       " 'Providence Encounters Severe Symptoms of Dengue\\n',\n",
       " 'Will HIV vaccine help Las Vegas?\\n',\n",
       " 'Mobile authorities confirmed the spread of Bronchitis\\n',\n",
       " 'Lausanne Residents Recieve Meningitis vaccine\\n',\n",
       " 'Will Meningitis vaccine help Hamburg?\\n',\n",
       " 'Madera Patient in Critical Condition after Contracting Rabies\\n',\n",
       " 'Malaria re-emerges in Boise\\n',\n",
       " 'How to Avoid Hepatitis B in Waldorf\\n',\n",
       " 'Malaria Exposure in Sussex\\n',\n",
       " 'Frisco Woman Tests Positive For Zika Virus\\n',\n",
       " 'Benton Residents Recieve Pneumonia vaccine\\n',\n",
       " 'Will Swine Flu vaccine help Ljubljana?\\n',\n",
       " 'Bronchitis re-emerges in Tehran\\n',\n",
       " 'Greenwich Establishes Zika Task Force\\n',\n",
       " 'Will West Nile Virus vaccine help Parsons?\\n',\n",
       " 'Will the Mad Cow Outbreak Reach Vienna?\\n',\n",
       " 'Albany Residents Recieve Respiratory Syncytial Virus vaccine\\n',\n",
       " 'Rotavirus Vaccine is now Required in Starkville\\n',\n",
       " 'Tocumen tests new cure for Hepatitis A\\n',\n",
       " 'Phnom Penh hit by Zika Threat\\n',\n",
       " 'Milwaukee authorities confirmed the spread of Rhinovirus\\n',\n",
       " 'St. Catharines Patient in Critical Condition after Contracting Dengue\\n',\n",
       " 'Halifax is infested with Swine Flu\\n',\n",
       " 'How to Avoid Pneumonia in Bullhead City\\n',\n",
       " 'Phoenix Residents Recieve Syphilis vaccine\\n',\n",
       " 'How to Avoid Chlamydia in Santiago\\n',\n",
       " 'Rotavirus Vaccine is now Required in Las Cumbres\\n',\n",
       " 'Southampton Patient in Critical Condition after Contracting Tuberculosis\\n',\n",
       " 'Richland Center is infested with Hepatitis B\\n',\n",
       " 'Malaria Vaccine is now Required in Schenectady\\n',\n",
       " 'Praia tests new cure for Pneumonia\\n',\n",
       " 'Bronchitis Outbreak in Manhasset\\n',\n",
       " 'Will West Nile Virus vaccine help Coronado?\\n',\n",
       " 'Framingham Residents Receive Measles vaccine\\n',\n",
       " 'Bridgeport authorities confirmed the spread of West Nile Virus\\n',\n",
       " 'Will Measles vaccine help Milford?\\n',\n",
       " 'Will Swine Flu vaccine help Annapolis?\\n',\n",
       " 'Duisburg up in Arms over Mad Cow Disease\\n',\n",
       " 'How to Avoid Respiratory Syncytial Virus in San Bernardino\\n',\n",
       " 'Laventille authorities confirmed the spread of Rhinovirus\\n',\n",
       " 'Will Herpes vaccine help Newcastle?\\n',\n",
       " 'Erie County sets Zika traps\\n',\n",
       " 'How to Avoid Norovirus in Greenville\\n',\n",
       " 'Will Mad Cow Vaccine Help Bristol?\\n',\n",
       " 'Will Tuberculosis vaccine help Cherry Creek?\\n',\n",
       " 'Norwalk Encounters Severe Symptoms of Malaria\\n',\n",
       " 'Pilsen Encounters Severe Symptoms of Malaria\\n',\n",
       " 'Will Hepatitis B vaccine help La Paz?\\n',\n",
       " 'Will Rabies vaccine help Tangier?\\n',\n",
       " 'Pedro Juan Caballero Encounters Severe Symptoms of Pneumonia\\n',\n",
       " 'Kent is infested with Rabies\\n',\n",
       " 'Ogden is infested with Gonorrhea\\n',\n",
       " 'Fort Hood Reports its First Zika Patient\\n',\n",
       " 'Huzhou Residents Receive Hepatitis B vaccine\\n',\n",
       " 'Iowa City Encounters Severe Symptoms of Rhinovirus\\n',\n",
       " 'How to Avoid Rhinovirus in Plainfield\\n',\n",
       " 'Scranton authorities confirmed the spread of Gonorrhea\\n',\n",
       " 'Hallandale Beach a Victim of Zika Outbreak\\n',\n",
       " 'Germantown authorities confirmed the spread of Chickenpox\\n',\n",
       " 'Bronchitis Symptoms Spread all over Santa Fe\\n',\n",
       " 'Biloxi Residents Recieve Chlamydia vaccine\\n',\n",
       " 'Harare is infested with Pneumonia\\n',\n",
       " 'Bronchitis Keeps Spreading in San Mateo\\n',\n",
       " 'Bradenton Experiences Zika Troubles  \\n',\n",
       " 'Wisconsin Rapids Patient in Critical Condition after Contracting Chickenpox\\n',\n",
       " 'Will Measles vaccine help Sochi?\\n',\n",
       " 'Malaria re-emerges in Nashua\\n',\n",
       " 'Arvada is infested with Syphilis\\n',\n",
       " 'Martinsville tests new cure for Measles\\n',\n",
       " 'Deerfield tests new cure for Measles\\n',\n",
       " 'How to Avoid Tuberculosis in Santa Monica\\n',\n",
       " 'Durango is infested with Hepatitis B\\n',\n",
       " 'Mpika authorities confirmed the spread of Chikungunya\\n',\n",
       " 'Gladstone Encounters Severe Symptoms of Dengue\\n',\n",
       " 'New Milford Patient in Critical Condition after Contracting Respiratory Syncytial Virus\\n',\n",
       " 'Vineland authorities confirmed the spread of Chlamydia\\n',\n",
       " 'Tupelo Residents Recieve Syphilis vaccine\\n',\n",
       " 'Barcelona Struck by Spanish Flu\\n',\n",
       " 'Barcelona Struck by Spanish Flu \\n',\n",
       " 'Will West Nile Virus vaccine help Dumai?\\n',\n",
       " 'Toms River Encounters Severe Symptoms of Respiratory Syncytial Virus\\n',\n",
       " \"Malaria Outbreak Hits Zanzibar's Tourist Industry\\n\",\n",
       " 'Malaria has Arrived in Terrebonne\\n',\n",
       " 'Princeton Encounters Severe Symptoms of Dengue\\n',\n",
       " 'Wuhan is infested with Varicella\\n',\n",
       " 'Sangre Grande Residents Recieve Gonorrhea vaccine\\n',\n",
       " 'Will Rotavirus vaccine help Addis Ababa?\\n',\n",
       " 'Miami resident suggests Zika precautions\\n',\n",
       " 'Lawrenceville is infested with Dengue\\n',\n",
       " 'Ibadan tests new cure for Malaria\\n',\n",
       " 'Malaria Vaccine is now Required in Winona\\n',\n",
       " 'Ronkonkoma is infested with Chickenpox\\n',\n",
       " 'How to Avoid Rhinovirus in Medford\\n',\n",
       " 'Duluth Patient in Critical Condition after Contracting Rotavirus\\n',\n",
       " 'Norfolk tests new cure for Herpes\\n',\n",
       " 'Manassas Encounters Severe Symptoms of Measles\\n',\n",
       " 'Fayetteville authorities confirmed the spread of HIV\\n',\n",
       " 'Panama City’s first Zika related death\\n',\n",
       " 'Marquette tests new cure for Hepatitis A\\n',\n",
       " 'Manchester Residents Recieve Influenza vaccine\\n',\n",
       " 'Rotavirus Vaccine is now Required in Labasa\\n',\n",
       " 'Bronchitis Keeps Spreading in Hayward\\n',\n",
       " 'Northfield Encounters Severe Symptoms of Herpes\\n',\n",
       " 'How to Avoid Hepatitis B in Trenton\\n',\n",
       " 'Barstow Patient in Critical Condition after Contracting Herpes\\n',\n",
       " 'Will Gonorrhea vaccine help East Moline?\\n',\n",
       " 'How to Avoid Contaminated Meat when Visiting Basel\\n',\n",
       " 'Alameda Residents Recieve Rabies vaccine\\n',\n",
       " 'Memphis Encounters Severe Symptoms of Swine Flu\\n',\n",
       " 'How to Avoid Chikungunya in Hampton\\n',\n",
       " 'How to Avoid Hepatitis E in South Bend\\n',\n",
       " 'Davenport is infested with Dengue\\n',\n",
       " 'Malaria Vaccine is now Required in Elyria\\n',\n",
       " 'Suva authorities confirmed the spread of Rotavirus\\n']"
      ]
     },
     "execution_count": 9,
     "metadata": {},
     "output_type": "execute_result"
    }
   ],
   "source": [
    "finallist = [x for x in hl_list if regex.match(x)]\n",
    "finallist"
   ]
  },
  {
   "cell_type": "code",
   "execution_count": null,
   "metadata": {},
   "outputs": [],
   "source": []
  }
 ],
 "metadata": {
  "kernelspec": {
   "display_name": "Python 3",
   "language": "python",
   "name": "python3"
  },
  "language_info": {
   "codemirror_mode": {
    "name": "ipython",
    "version": 3
   },
   "file_extension": ".py",
   "mimetype": "text/x-python",
   "name": "python",
   "nbconvert_exporter": "python",
   "pygments_lexer": "ipython3",
   "version": "3.7.6"
  }
 },
 "nbformat": 4,
 "nbformat_minor": 4
}
